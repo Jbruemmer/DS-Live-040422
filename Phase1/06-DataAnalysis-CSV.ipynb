{
 "cells": [
  {
   "cell_type": "markdown",
   "metadata": {},
   "source": [
    "# Data Analysis with CSVs"
   ]
  },
  {
   "cell_type": "markdown",
   "metadata": {},
   "source": [
    "In this lesson, we'll complete a full data analysis with a raw data file. **Comma Separated Values** files, known as CSVs, are one of the most common file formats for storing tabular data. In this lesson, we'll show you how to load one into memory and work with it using Python."
   ]
  },
  {
   "cell_type": "markdown",
   "metadata": {},
   "source": [
    "# Objectives"
   ]
  },
  {
   "cell_type": "markdown",
   "metadata": {},
   "source": [
    "Perform a complete data analysis by...\n",
    "\n",
    "- Creating a Python data structure from a .csv file\n",
    "- Exploring and cleaning the data \n",
    "- Conducting descriptive analysis\n",
    "- Visualizing the results"
   ]
  },
  {
   "cell_type": "markdown",
   "metadata": {},
   "source": [
    "# Loading a CSV"
   ]
  },
  {
   "cell_type": "markdown",
   "metadata": {},
   "source": [
    "The before you can work with a CSV file, you need to load it into memory.\n",
    "\n",
    "We'll be working with food data! Data source: https://www.kaggle.com/datasets/openfoodfacts/world-food-facts (version we're using has been lightly cleaned and edited for clarity, and because we don't need all 163 columns)"
   ]
  },
  {
   "cell_type": "markdown",
   "metadata": {},
   "source": [
    "## First up - to the Terminal!"
   ]
  },
  {
   "cell_type": "markdown",
   "metadata": {},
   "source": [
    "## Get the File Path"
   ]
  },
  {
   "cell_type": "markdown",
   "metadata": {},
   "source": [
    "Make sure you have the path to your data file. For this example, it is in the root folder of this repository.\n",
    "\n",
    "Open a new Terminal window (one that doesn't have Jupyter running) and check out the _relative_ location and path between this notebook and the `chipotle.csv` data file."
   ]
  },
  {
   "cell_type": "markdown",
   "metadata": {},
   "source": [
    "Now, let's save that relative path here, as a string variable.\n",
    "\n",
    "We use `.` to indicate the root folder of the repository when working within this notebook."
   ]
  },
  {
   "cell_type": "code",
   "execution_count": 2,
   "metadata": {},
   "outputs": [],
   "source": [
    "csv_file_path = \"./data/OpenFoodFacts.csv\""
   ]
  },
  {
   "cell_type": "markdown",
   "metadata": {},
   "source": [
    "## Inspecting CSV files"
   ]
  },
  {
   "cell_type": "markdown",
   "metadata": {},
   "source": [
    "In a CSV file, each line represents one row of tabular data, and consecutive values in that row are separated by a comma. Often, the first row contains the column names separated by commas, also known as field names. Let's confirm that this is the case and learn about our dataset by printing the first five lines of the file."
   ]
  },
  {
   "cell_type": "markdown",
   "metadata": {},
   "source": [
    "We can inspect the data directly in our terminal! Use the bash command `head` with the flag `-n 5` to check out those first two rows."
   ]
  },
  {
   "cell_type": "markdown",
   "metadata": {},
   "source": [
    "### Printing Lines in Python"
   ]
  },
  {
   "cell_type": "markdown",
   "metadata": {},
   "source": [
    "We use the `with open()` syntax to easily open and read the file in the notebook. Using this syntax will automatically close the file once the statement is done running."
   ]
  },
  {
   "cell_type": "code",
   "execution_count": 3,
   "metadata": {},
   "outputs": [
    {
     "name": "stdout",
     "output_type": "stream",
     "text": [
      "product_name,brands,created_date,last_modified_date,serving_size,energy_100g,fat_100g,carbohydrates_100g,sugars_100g,proteins_100g\n",
      "\n"
     ]
    }
   ],
   "source": [
    "# This code prints the first line of the CSV file\n",
    "\n",
    "with open(csv_file_path) as csvfile:\n",
    "    print(csvfile.readline())"
   ]
  },
  {
   "cell_type": "markdown",
   "metadata": {},
   "source": [
    "Next, we can print the second line to look at an example of one observation from our dataset. "
   ]
  },
  {
   "cell_type": "code",
   "execution_count": 4,
   "metadata": {},
   "outputs": [
    {
     "name": "stdout",
     "output_type": "stream",
     "text": [
      "Banana Chips Sweetened (Whole),,2017-03-09,2017-03-09,28.0 g,2243.0,28.57,64.29,14.29,3.57\n",
      "\n"
     ]
    }
   ],
   "source": [
    "# This code prints the second line of the CSV file\n",
    "\n",
    "with open(csv_file_path) as csvfile:\n",
    "    csvfile.readline()\n",
    "    print(csvfile.readline())"
   ]
  },
  {
   "cell_type": "markdown",
   "metadata": {},
   "source": [
    "### Discussion"
   ]
  },
  {
   "cell_type": "markdown",
   "metadata": {},
   "source": [
    "Based on these two lines, what can we infer about the contents of the data file? What questions arise for you about the data?\n",
    "\n",
    "- \n"
   ]
  },
  {
   "cell_type": "markdown",
   "metadata": {},
   "source": [
    "## Using the `csv` module"
   ]
  },
  {
   "cell_type": "markdown",
   "metadata": {},
   "source": [
    "The [`csv` module](https://docs.python.org/3/library/csv.html) lets us easily process data in CSV files. We will use it to read each row in the `.csv` file and store its information in a Python object we can use for further analysis. "
   ]
  },
  {
   "cell_type": "code",
   "execution_count": 5,
   "metadata": {},
   "outputs": [],
   "source": [
    "# Import the csv module here\n",
    "import csv"
   ]
  },
  {
   "cell_type": "markdown",
   "metadata": {},
   "source": [
    "The [`csv.DictReader`](https://docs.python.org/3/library/csv.html#csv.DictReader) object is a file reader, reading each row and then converting it to a dictionary. By default, it turns each row into a dictionary, using the field names from the first row as the keys."
   ]
  },
  {
   "cell_type": "code",
   "execution_count": 6,
   "metadata": {},
   "outputs": [
    {
     "name": "stdout",
     "output_type": "stream",
     "text": [
      "{'product_name': 'Banana Chips Sweetened (Whole)', 'brands': '', 'created_date': '2017-03-09', 'last_modified_date': '2017-03-09', 'serving_size': '28.0 g', 'energy_100g': '2243.0', 'fat_100g': '28.57', 'carbohydrates_100g': '64.29', 'sugars_100g': '14.29', 'proteins_100g': '3.57'}\n"
     ]
    }
   ],
   "source": [
    "# Print OrderedDict from first row of CSV file \n",
    "\n",
    "with open(csv_file_path) as csvfile:\n",
    "    reader = csv.DictReader(csvfile)\n",
    "    print(next(reader))"
   ]
  },
  {
   "cell_type": "markdown",
   "metadata": {},
   "source": [
    "Let's get all of the data out of our file and into dictionaries, and store those dictionaries in a new list called `products`."
   ]
  },
  {
   "cell_type": "code",
   "execution_count": 7,
   "metadata": {},
   "outputs": [
    {
     "name": "stdout",
     "output_type": "stream",
     "text": [
      "{'product_name': 'Banana Chips Sweetened (Whole)', 'brands': '', 'created_date': '2017-03-09', 'last_modified_date': '2017-03-09', 'serving_size': '28.0 g', 'energy_100g': '2243.0', 'fat_100g': '28.57', 'carbohydrates_100g': '64.29', 'sugars_100g': '14.29', 'proteins_100g': '3.57'}\n"
     ]
    }
   ],
   "source": [
    "products = []\n",
    "\n",
    "with open(csv_file_path, encoding='utf-8') as csvfile:\n",
    "    reader = csv.DictReader(csvfile)\n",
    "    print(next(reader))\n",
    "    for row in reader:\n",
    "        products.append(row)\n",
    "\n",
    "\n"
   ]
  },
  {
   "cell_type": "code",
   "execution_count": 8,
   "metadata": {},
   "outputs": [
    {
     "data": {
      "text/plain": [
       "[{'product_name': 'Peanuts',\n",
       "  'brands': 'Torn & Glasser',\n",
       "  'created_date': '2017-03-09',\n",
       "  'last_modified_date': '2017-03-09',\n",
       "  'serving_size': '28.0 g',\n",
       "  'energy_100g': '1941.0',\n",
       "  'fat_100g': '17.86',\n",
       "  'carbohydrates_100g': '60.71',\n",
       "  'sugars_100g': '17.86',\n",
       "  'proteins_100g': '17.86'},\n",
       " {'product_name': 'Organic Salted Nut Mix',\n",
       "  'brands': 'Grizzlies',\n",
       "  'created_date': '2017-03-09',\n",
       "  'last_modified_date': '2017-03-09',\n",
       "  'serving_size': '28.0 g',\n",
       "  'energy_100g': '2540.0',\n",
       "  'fat_100g': '57.14',\n",
       "  'carbohydrates_100g': '17.86',\n",
       "  'sugars_100g': '3.57',\n",
       "  'proteins_100g': '17.86'},\n",
       " {'product_name': 'Organic Polenta',\n",
       "  'brands': \"Bob's Red Mill\",\n",
       "  'created_date': '2017-03-09',\n",
       "  'last_modified_date': '2017-03-09',\n",
       "  'serving_size': '35.0 g',\n",
       "  'energy_100g': '1552.0',\n",
       "  'fat_100g': '1.43',\n",
       "  'carbohydrates_100g': '77.14',\n",
       "  'sugars_100g': '',\n",
       "  'proteins_100g': '8.57'}]"
      ]
     },
     "execution_count": 8,
     "metadata": {},
     "output_type": "execute_result"
    }
   ],
   "source": [
    "# Now look at the first 3 entries\n",
    "products[0:3]"
   ]
  },
  {
   "cell_type": "markdown",
   "metadata": {},
   "source": [
    "# Data Preparation"
   ]
  },
  {
   "cell_type": "markdown",
   "metadata": {},
   "source": [
    "Now that we've gotten all of our data into a Python object, we can prepare it for analysis. Let's look at a sample observation and consider how we might want to process it to make it easier to analyze."
   ]
  },
  {
   "cell_type": "code",
   "execution_count": 9,
   "metadata": {},
   "outputs": [
    {
     "data": {
      "text/plain": [
       "150489"
      ]
     },
     "execution_count": 9,
     "metadata": {},
     "output_type": "execute_result"
    }
   ],
   "source": [
    "# Look at the first element in products\n",
    "len(products)"
   ]
  },
  {
   "cell_type": "markdown",
   "metadata": {},
   "source": [
    "**Discussion:** How might you clean these entries to make them easier to analyze?\n",
    "\n",
    "- \n"
   ]
  },
  {
   "cell_type": "markdown",
   "metadata": {},
   "source": [
    "## Clean the Serving Size (and other numbers)"
   ]
  },
  {
   "cell_type": "markdown",
   "metadata": {},
   "source": [
    "You might have noticed that all of these numbers are strings! Hard to do things like math on strings.\n",
    "\n",
    "In addition, the `serving_size` here has ` g` at the end - in fact, I know from doing more analysis on this data that ALL of these are in grams, and have ` g` at the end. Let's remove that so we can treat those as numbers too!"
   ]
  },
  {
   "cell_type": "code",
   "execution_count": 10,
   "metadata": {},
   "outputs": [],
   "source": [
    "# First, let's do a one off example - how to we turn a string into a float?\n"
   ]
  },
  {
   "cell_type": "code",
   "execution_count": 11,
   "metadata": {},
   "outputs": [
    {
     "data": {
      "text/plain": [
       "float"
      ]
     },
     "execution_count": 11,
     "metadata": {},
     "output_type": "execute_result"
    }
   ],
   "source": [
    "# And how can we remove the ' g' from the end of the serving sizes?\n",
    "type(float(products[0]['serving_size'][:-2]))"
   ]
  },
  {
   "cell_type": "code",
   "execution_count": 12,
   "metadata": {},
   "outputs": [],
   "source": [
    "# Now that we've figured out what to do, let's clean up these dicts!\n",
    "# We'll need a for loop for this!\n",
    "\n",
    "\n",
    "for product in products:\n",
    "    \n",
    "    product['serving_size'] = float(product['serving_size'].strip(\" g\"))\n",
    "    \n",
    "    for key, value in product.items():\n",
    "        if \"100g\" in key:\n",
    "            try:\n",
    "                product[key] = float(value)\n",
    "            except:\n",
    "                product[key] = 0.0"
   ]
  },
  {
   "cell_type": "code",
   "execution_count": 13,
   "metadata": {
    "scrolled": false
   },
   "outputs": [
    {
     "data": {
      "text/plain": [
       "{'product_name': 'Peanuts',\n",
       " 'brands': 'Torn & Glasser',\n",
       " 'created_date': '2017-03-09',\n",
       " 'last_modified_date': '2017-03-09',\n",
       " 'serving_size': 28.0,\n",
       " 'energy_100g': 1941.0,\n",
       " 'fat_100g': 17.86,\n",
       " 'carbohydrates_100g': 60.71,\n",
       " 'sugars_100g': 17.86,\n",
       " 'proteins_100g': 17.86}"
      ]
     },
     "execution_count": 13,
     "metadata": {},
     "output_type": "execute_result"
    }
   ],
   "source": [
    "products[0]\n",
    "\n",
    "# Check our work\n"
   ]
  },
  {
   "cell_type": "markdown",
   "metadata": {},
   "source": [
    "## Clean the Dates"
   ]
  },
  {
   "cell_type": "markdown",
   "metadata": {},
   "source": [
    "Next we'll clean the dates so that we can easily get the month and year when each food was added to this database."
   ]
  },
  {
   "cell_type": "markdown",
   "metadata": {},
   "source": [
    "**Activity**: Process the `products` list to add numeric values for the month and year when each entry was first created! (aka parse out `created_date` so that `month` and `year` are new keys for each entry, with numeric values for the month and year)"
   ]
  },
  {
   "cell_type": "code",
   "execution_count": 14,
   "metadata": {},
   "outputs": [],
   "source": [
    "# Your work here\n",
    "int(products[0]['created_date'][0:4])\n",
    "\n",
    "for product in products:\n",
    "    year = int(product['created_date'][0:4])\n",
    "    month = int(product['created_date'][5:7])\n",
    "    \n",
    "    product['month'] = month\n",
    "    product['year'] = year"
   ]
  },
  {
   "cell_type": "code",
   "execution_count": 15,
   "metadata": {},
   "outputs": [
    {
     "data": {
      "text/plain": [
       "{'product_name': 'Sugar Free Drink Mix, Peach Tea',\n",
       " 'brands': 'Market Pantry',\n",
       " 'created_date': '2017-03-09',\n",
       " 'last_modified_date': '2017-04-03',\n",
       " 'serving_size': 1.0,\n",
       " 'energy_100g': 2092.0,\n",
       " 'fat_100g': 0.0,\n",
       " 'carbohydrates_100g': 0.0,\n",
       " 'sugars_100g': 0.0,\n",
       " 'proteins_100g': 0.0,\n",
       " 'month': 3,\n",
       " 'year': 2017}"
      ]
     },
     "execution_count": 15,
     "metadata": {},
     "output_type": "execute_result"
    }
   ],
   "source": [
    "# Check your work!\n",
    "products[-1]"
   ]
  },
  {
   "cell_type": "markdown",
   "metadata": {},
   "source": [
    "# Data Analysis"
   ]
  },
  {
   "cell_type": "markdown",
   "metadata": {},
   "source": [
    "Now that you have a cleaned list with the data, we can finally start to perform some data analysis."
   ]
  },
  {
   "cell_type": "markdown",
   "metadata": {},
   "source": [
    "## Question 1: What is the range of years for which we have data?"
   ]
  },
  {
   "cell_type": "code",
   "execution_count": 23,
   "metadata": {},
   "outputs": [
    {
     "name": "stdout",
     "output_type": "stream",
     "text": [
      "2012 2017\n"
     ]
    }
   ],
   "source": [
    "# Your work here\n",
    "\n",
    "\n",
    "years_list = [product['year'] for product in products]\n",
    "unique_years = set(years_list)\n",
    "unique_years\n",
    "print(min(unique_years), max(unique_years))"
   ]
  },
  {
   "cell_type": "markdown",
   "metadata": {},
   "source": [
    "## Question 2: What is the average number of calories per 100g for all of these foods?"
   ]
  },
  {
   "cell_type": "code",
   "execution_count": 30,
   "metadata": {},
   "outputs": [
    {
     "data": {
      "text/plain": [
       "1222.906482400707"
      ]
     },
     "execution_count": 30,
     "metadata": {},
     "output_type": "execute_result"
    }
   ],
   "source": [
    "# Your work here\n",
    "total_calories = 0\n",
    "\n",
    "for product in products:\n",
    "    total_calories = product['energy_100g'] + total_calories\n",
    "    \n",
    "total_calories\n",
    "\n",
    "average_calories = total_calories/len(products)\n",
    "\n",
    "\n",
    "\n",
    "average_calories\n"
   ]
  },
  {
   "cell_type": "markdown",
   "metadata": {},
   "source": [
    "## Question 3: What is the average amount of sugar per 100g in foods that are more than 1000 calories per 100g?"
   ]
  },
  {
   "cell_type": "code",
   "execution_count": 34,
   "metadata": {},
   "outputs": [
    {
     "data": {
      "text/plain": [
       "23.28470323006852"
      ]
     },
     "execution_count": 34,
     "metadata": {},
     "output_type": "execute_result"
    }
   ],
   "source": [
    "# Your work here\n",
    "sugar_count = 0\n",
    "count = 0\n",
    "for product in products:\n",
    "    if product['energy_100g'] > 1000:\n",
    "        sugar_count = product['sugars_100g'] + sugar_count\n",
    "        count = count + 1\n",
    "        \n",
    "\n",
    "avg_sugar = sugar_count / count\n",
    "\n",
    "avg_sugar\n",
    "        \n",
    "        "
   ]
  },
  {
   "cell_type": "markdown",
   "metadata": {},
   "source": [
    "## Question 4: How many foods were added (created) in each year?"
   ]
  },
  {
   "cell_type": "code",
   "execution_count": null,
   "metadata": {},
   "outputs": [],
   "source": [
    "# Your work here\n",
    "2012_count = 0\n",
    "2013_count = 0\n",
    "2014_count = 0\n",
    "2015_count = 0\n",
    "2016_count = 0\n",
    "2017_count = 0\n",
    "\n",
    "for product in products:\n",
    "    elif product['year'] = 2012:\n",
    "        2012_count += 1\n",
    "    elif product['year'] = 2013:\n",
    "        2013_count += 1\n",
    "    elif product['year'] = 2014:\n",
    "        2014_count += 1\n",
    "    elif product['year'] = 2015:\n",
    "        2015_count += 1\n",
    "    elif product['year'] = 2016\n",
    "        2016_count += 1\n",
    "    elif product['year'] = 2017:\n",
    "        2017_count += 1\n",
    "print(2012_count, 2013_count, 2014_count, 2015_count, 2016_count, 2017_count)"
   ]
  },
  {
   "cell_type": "markdown",
   "metadata": {},
   "source": [
    "# Chart the Data"
   ]
  },
  {
   "cell_type": "markdown",
   "metadata": {},
   "source": [
    "Just looking at our answers takes a lot of effort to read it and make sense of the trends - let's visualize the results to make this easier.\n",
    "\n",
    "Specifically, let's visualize our answer to Question 4!"
   ]
  },
  {
   "cell_type": "code",
   "execution_count": null,
   "metadata": {},
   "outputs": [],
   "source": [
    "import matplotlib.pyplot as plt"
   ]
  },
  {
   "cell_type": "code",
   "execution_count": null,
   "metadata": {},
   "outputs": [],
   "source": [
    "# create a figure and one plot\n",
    "\n",
    "# place data in a bar chart\n",
    "# where the x-axis is each year and\n",
    "# the y-axis is the number of products added per year\n",
    "\n",
    "\n",
    "# set axis labels\n",
    "\n",
    "\n",
    "# give the bar chart a title\n"
   ]
  },
  {
   "cell_type": "markdown",
   "metadata": {},
   "source": [
    "-----"
   ]
  },
  {
   "cell_type": "markdown",
   "metadata": {},
   "source": [
    "# Level Up: `Counter`"
   ]
  },
  {
   "cell_type": "markdown",
   "metadata": {},
   "source": [
    "The `collections` package has a lot of useful tools for working with Python objects containing multiple elements. You can use the `Counter` class to easily count the number of values in a list.\n",
    "\n",
    "For example, let's say that for all dictionaries in `sales`, we want to count how many property sales occured in each year. "
   ]
  },
  {
   "cell_type": "code",
   "execution_count": null,
   "metadata": {},
   "outputs": [],
   "source": [
    "from collections import Counter\n",
    "\n",
    "prod_year_count = Counter([product['created_year'] for product in products])\n",
    "prod_year_count"
   ]
  },
  {
   "cell_type": "markdown",
   "metadata": {},
   "source": [
    "Let's sort these by year. Since the value in `sale_year` is an integer, we can use Python's built-in [`sorted`](https://docs.python.org/3/library/functions.html#sorted) function to transform the `Counter` object into a `list` of `tuples` - `(year, count)` which are sorted in ascending order by year."
   ]
  },
  {
   "cell_type": "code",
   "execution_count": null,
   "metadata": {},
   "outputs": [],
   "source": [
    "prod_year_count = sorted(prod_year_count.items())\n",
    "prod_year_count"
   ]
  },
  {
   "cell_type": "markdown",
   "metadata": {},
   "source": [
    "# Level Up: Using `datetime`"
   ]
  },
  {
   "cell_type": "markdown",
   "metadata": {},
   "source": [
    "Python has a [`datetime`](https://docs.python.org/3.7/library/datetime.html) package that is the standard tool for handling dates and times. `datetime` objects make it easy to do fun things like subtract dates to calculate how far apart they are."
   ]
  },
  {
   "cell_type": "code",
   "execution_count": 36,
   "metadata": {},
   "outputs": [],
   "source": [
    "from datetime import datetime"
   ]
  },
  {
   "cell_type": "code",
   "execution_count": 37,
   "metadata": {},
   "outputs": [],
   "source": [
    "for product in products:\n",
    "    # Transform DocumentDate from string to datetime\n",
    "    product[\"clean_date\"] = datetime.strptime(product[\"last_modified_date\"], \n",
    "                                           \"%Y-%m-%d\")\n",
    "    \n",
    "    # Add the sale year and month to each dictionary element of sales\n",
    "    product[\"last_modified_year\"] = product[\"clean_date\"].year\n",
    "    product[\"last_modified_month\"] = product[\"clean_date\"].month"
   ]
  },
  {
   "cell_type": "markdown",
   "metadata": {},
   "source": [
    "Let's inspect our work"
   ]
  },
  {
   "cell_type": "code",
   "execution_count": 38,
   "metadata": {},
   "outputs": [
    {
     "data": {
      "text/plain": [
       "{'product_name': 'Peanuts',\n",
       " 'brands': 'Torn & Glasser',\n",
       " 'created_date': '2017-03-09',\n",
       " 'last_modified_date': '2017-03-09',\n",
       " 'serving_size': 28.0,\n",
       " 'energy_100g': 1941.0,\n",
       " 'fat_100g': 17.86,\n",
       " 'carbohydrates_100g': 60.71,\n",
       " 'sugars_100g': 17.86,\n",
       " 'proteins_100g': 17.86,\n",
       " 'month': 3,\n",
       " 'year': 2017,\n",
       " 'clean_date': datetime.datetime(2017, 3, 9, 0, 0),\n",
       " 'last_modified_year': 2017,\n",
       " 'last_modified_month': 3}"
      ]
     },
     "execution_count": 38,
     "metadata": {},
     "output_type": "execute_result"
    }
   ],
   "source": [
    "products[0]"
   ]
  }
 ],
 "metadata": {
  "kernelspec": {
   "display_name": "Python 3",
   "language": "python",
   "name": "python3"
  },
  "language_info": {
   "codemirror_mode": {
    "name": "ipython",
    "version": 3
   },
   "file_extension": ".py",
   "mimetype": "text/x-python",
   "name": "python",
   "nbconvert_exporter": "python",
   "pygments_lexer": "ipython3",
   "version": "3.8.5"
  },
  "toc": {
   "base_numbering": 1,
   "nav_menu": {},
   "number_sections": true,
   "sideBar": true,
   "skip_h1_title": false,
   "title_cell": "Table of Contents",
   "title_sidebar": "Contents",
   "toc_cell": true,
   "toc_position": {},
   "toc_section_display": true,
   "toc_window_display": true
  }
 },
 "nbformat": 4,
 "nbformat_minor": 2
}
